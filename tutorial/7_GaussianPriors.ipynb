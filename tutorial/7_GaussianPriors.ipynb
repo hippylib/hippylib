{
 "cells": [
  {
   "cell_type": "markdown",
   "metadata": {},
   "source": [
    "# Gaussian priors in infinite dimensions\n",
    "\n",
    "In this notebook we show how to construct PDE-based priors that lead to well-posed Bayesian inverse problems in infinite dimesions.\n",
    "Specifically, we will consider a Gaussian prior $\\mu_{\\rm prior} \\sim \\mathcal{N}( m_{\\rm prior}, \\mathcal{C}_{\\rm prior} )$, where\n",
    "the covariance operator $\\mathcal{C}_{\\rm prior}$ is defined as the inverse of an elliptic differential operator, i.e.\n",
    "\n",
    "$$ \\mathcal{C}_{\\rm prior} = \\left( \\delta I - \\gamma \\Delta \\right)^{-\\alpha}, $$\n",
    "\n",
    "equipped with homogeneous Neumann, Dirichlet or Robin boundary conditions, and $m_{\\rm prior} \\in H^{\\frac{\\alpha}{2}}(\\Omega)$, where $\\Omega \\subset \\mathbb{R}^d$.\n",
    "\n",
    "The parameter $\\alpha > \\frac{d}{2}$ controls the smoothness of the random field and ensures that $\\mathcal{C}_{\\rm prior}$ is a trace class operator (i.e., the infinite sum of the eigenvalues of  $\\mathcal{C}_{\\rm prior}$ is finite). \n",
    "The fact that $\\mathcal{C}_{\\rm prior}$ is trace class is extremely important as it guaratees that the pointwise variance of the samples is finite. (Recall that for a Gaussian random field \n",
    "$ E [\\int_{\\Omega}(m - m_{\\rm prior})^2\\,dx = \\operatorname{trace}(\\mathcal{C}_{\\rm prior})]$).\n",
    "\n",
    "The parameters $\\delta>0$, $\\gamma>0$ can be constant in $\\Omega$ (in this case the prior is called stationary) or spatially varing.\n",
    "\n",
    "It can be shown that, in the case of the BiLaplacian prior ($\\alpha=2$) in $d$-spatial dimensions, the relationship between the PDE coefficients $\\gamma$ and $\\delta$ and the desired marginal variance $\\sigma^2$ and correlation length $\\rho$ is\n",
    "\n",
    "$$ \\gamma = \\frac{1}{s}, \\quad \\delta = \\frac{\\kappa^2}{s}, $$\n",
    "where\n",
    "$$ \\nu = 2. - \\frac{d}{2}, \\quad \\kappa = \\frac{\\sqrt{8\\nu}}{\\rho}, \\text{ and } s = \\sigma\\kappa^\\nu\\sqrt{\\frac{(4\\pi)^{d/2}}{\\Gamma(\\nu)}}.$$\n",
    "\n",
    "\n",
    "The above formulae are implemented in the `hIPPYlib` function `BiLaplacianComputeCoefficients`, which calculates the coefficients `gamma` and `delta` of the BiLaplacian prior ($\\alpha=2$) given the desired marginal variance $\\sigma^2$ and correlation length $\\rho$."
   ]
  },
  {
   "cell_type": "markdown",
   "metadata": {},
   "source": [
    "## Import dependencies"
   ]
  },
  {
   "cell_type": "code",
   "execution_count": null,
   "metadata": {},
   "outputs": [],
   "source": [
    "import dolfin as dl\n",
    "import numpy as np\n",
    "import math\n",
    "\n",
    "import sys\n",
    "import os\n",
    "sys.path.append( os.environ.get('HIPPYLIB_BASE_DIR', \"../\") )\n",
    "\n",
    "from hippylib import *\n",
    "\n",
    "import matplotlib.pyplot as plt\n",
    "from matplotlib import rc\n",
    "import matplotlib.patches as mpatches\n",
    "# from pylab import *\n",
    "plt.rc('text', usetex=True)\n",
    "plt.rc('font', family='serif')\n",
    "plt.rc('text.latex', preamble=r'\\usepackage{amsfonts}')\n",
    "%matplotlib inline"
   ]
  },
  {
   "cell_type": "markdown",
   "metadata": {},
   "source": [
    "## Plot the marginal variance and correlation structure at a given point"
   ]
  },
  {
   "cell_type": "code",
   "execution_count": null,
   "metadata": {},
   "outputs": [],
   "source": [
    "def correlationStructure(prior, center):\n",
    "    rhs = dl.Vector()\n",
    "    prior.init_vector(rhs, 0)\n",
    "    \n",
    "    corrStruct = dl.Vector()\n",
    "    prior.init_vector(corrStruct, 0)\n",
    "    \n",
    "    ps = dl.PointSource(prior.Vh, center, 1.)\n",
    "    ps.apply(rhs)\n",
    "    \n",
    "    prior.Rsolver.solve(corrStruct, rhs)\n",
    "    \n",
    "    return vector2Function(corrStruct, prior.Vh)\n",
    "\n",
    "def makeCorrelationPlots(mesh, sigma2, rho, coords,plot_prefix = '',anisotropic=False,\\\n",
    "                  degree = 2, tick_size = 18, title_size = 32, use_robin = True,\\\n",
    "                         theta0=2.0, theta1 =0.5, alpha = math.pi/4, cmap='viridis'):\n",
    "    \"\"\"\n",
    "    Show the plot of the marginal variance and correlation structure\n",
    "    - mesh: The finite element mesh\n",
    "    - sigma2: The prescribed marginal variance\n",
    "    - rho: The prescribed correlation lenghth\n",
    "    - pt: Point at which to show the correlation structure\n",
    "    \"\"\"\n",
    "    ndim = mesh.geometric_dimension()\n",
    "    Vh = dl.FunctionSpace(mesh, \"CG\", 1)\n",
    "\n",
    "    gamma, delta = BiLaplacianComputeCoefficients(sigma2, rho, ndim)\n",
    "\n",
    "    \n",
    "    if degree == 1:\n",
    "        prior = LaplacianPrior(Vh, gamma, delta)\n",
    "    elif degree == 2:\n",
    "        if anisotropic:\n",
    "            anis_diff = dl.CompiledExpression(ExpressionModule.AnisTensor2D(), degree = 1)\n",
    "            anis_diff.set(theta0, theta1, alpha)\n",
    "        else:\n",
    "            anis_diff = None\n",
    "        prior = BiLaplacianPrior(Vh, gamma, delta,  anis_diff, robin_bc=use_robin)\n",
    "        prior.Asolver = dl.PETScLUSolver(dl.as_backend_type(prior.A)) #Replace iterative with direct solver\n",
    "    else:\n",
    "        raise\n",
    "\n",
    "\n",
    "    ## pointwise variance\n",
    "    r = int(4*np.sqrt(Vh.dim()))\n",
    "    pointwise_variance = vector2Function(prior.pointwise_variance(method=\"Randomized\", r=r), Vh)\n",
    "\n",
    "    # construct pt\n",
    "    pt = dl.Point(coords)\n",
    "    \n",
    "    correlation_struc  = correlationStructure(prior, pt)\n",
    "\n",
    "    print(\"Prescribed marginal variance: \", sigma2)\n",
    "    print(\"Actual marginal variance:\", correlation_struc.vector().norm(\"linf\"))\n",
    "    \n",
    "    ## Plot variance and correlation structure\n",
    "    if ndim == 1:\n",
    "        fig, axes = plt.subplots(1, 2, figsize=[15,6])\n",
    "        for ax in axes:\n",
    "            ax.tick_params(axis='both', which='major', labelsize=tick_size)\n",
    "            ax.tick_params(axis='both', which='minor', labelsize=tick_size)\n",
    "\n",
    "        plt.sca(axes[0])\n",
    "        dl.plot(pointwise_variance)\n",
    "        plt.title(\"Marginal variance\",fontsize=title_size)\n",
    "        plt.sca(axes[1])\n",
    "        dl.plot(correlation_struc)\n",
    "        # Adding some plot annotations\n",
    "        ymax = np.max(correlation_struc.vector().get_local())\n",
    "        \n",
    "        plt.vlines(x=[coords], ymin=[0], ymax=[0.98*ymax],\\\n",
    "                           colors='black', ls='--', lw=2)\n",
    "        \n",
    "        arr = mpatches.FancyArrowPatch((coords, 0.1*ymax), (coords+rho, 0.1*ymax),\n",
    "                               arrowstyle='<->,head_width=.15', mutation_scale=20)\n",
    "        ax.add_patch(arr)\n",
    "        bbox=dict(fc=\"white\", ec=\"none\")\n",
    "        ax.annotate('${\\\\rho}='+str(rho)+'$', (.5, .5), xycoords=arr, ha='center', va='center',\\\n",
    "                                    fontsize=15,bbox=bbox)\n",
    "\n",
    "        plt.title(\"Correlation\",fontsize=title_size)\n",
    "        fig.savefig(plot_prefix+'var_and_correlation.pdf')\n",
    "    else:\n",
    "        nb.multi1_plot([pointwise_variance,correlation_struc],['Marginal variance','Correlation'],\\\n",
    "                      fontsize = title_size,cmap=cmap)\n",
    "        fig, ax = plt.gcf(), plt.gca()\n",
    "        ims = ax.images \n",
    "        for im in ims:\n",
    "            cb = im.colorbar\n",
    "            cb = fig.colorbar()\n",
    "            cb.ax.tick_params(labelsize=tick_size)\n",
    "        fig.savefig(plot_prefix+'var_and_correlation.pdf')\n",
    "    \n",
    "    plt.show()\n",
    "    \n",
    "    \n",
    "    \n",
    "save_dir = 'figures/'\n",
    "os.makedirs(save_dir,exist_ok = True)"
   ]
  },
  {
   "cell_type": "markdown",
   "metadata": {},
   "source": [
    "### The 1D case"
   ]
  },
  {
   "cell_type": "code",
   "execution_count": null,
   "metadata": {},
   "outputs": [],
   "source": [
    "mesh = dl.UnitIntervalMesh(100)\n",
    "sigma2 = 4\n",
    "rho    = 0.25\n",
    "coords = 0.5\n",
    "\n",
    "makeCorrelationPlots(mesh, sigma2, rho, coords,plot_prefix = save_dir+'1D05')\n",
    "\n",
    "coords = 0.75\n",
    "\n",
    "makeCorrelationPlots(mesh, sigma2, rho, coords,plot_prefix = save_dir+'1D05norobin',use_robin=False)"
   ]
  },
  {
   "cell_type": "markdown",
   "metadata": {},
   "source": [
    "### The 2D case"
   ]
  },
  {
   "cell_type": "code",
   "execution_count": null,
   "metadata": {},
   "outputs": [],
   "source": [
    "mesh = dl.UnitSquareMesh(64,64)\n",
    "sigma2 = 4\n",
    "rho    = 0.25\n",
    "coords = (0.5,0.5)\n",
    "\n",
    "makeCorrelationPlots(mesh, sigma2, rho, coords,plot_prefix = save_dir+'2D0505',cmap='jet')\n",
    "\n",
    "coords = (0.75,0.75)\n",
    "makeCorrelationPlots(mesh, sigma2, rho, coords,plot_prefix = save_dir+'2D075075',cmap='jet')\n",
    "\n",
    "coords = (0.75,0.75)\n",
    "makeCorrelationPlots(mesh, sigma2, rho, coords,plot_prefix = save_dir+'2D075075norobin',cmap='jet',use_robin = False)"
   ]
  },
  {
   "cell_type": "markdown",
   "metadata": {},
   "source": [
    "## Generating Samples"
   ]
  },
  {
   "cell_type": "code",
   "execution_count": null,
   "metadata": {},
   "outputs": [],
   "source": [
    "def makeSamplePlots(mesh, sigma2, rho, plot_prefix = '',anisotropic=False,\\\n",
    "                  tick_size = 18, title_size = 32, use_robin = True,\\\n",
    "                   degree = 2,theta0=2.0, theta1 =0.5, alpha = math.pi/4,\\\n",
    "                    with_correlation = False,same_colorbar = True, cmap = None):\n",
    "    \"\"\"\n",
    "    Show the plot of the marginal variance and correlation structure\n",
    "    - mesh: The finite element mesh\n",
    "    - sigma2: The prescribed marginal variance\n",
    "    - rho: The prescriced coerrelation lenghth\n",
    "    - pt: Point at which to show the correlation structure\n",
    "    \"\"\"\n",
    "    ndim = mesh.geometric_dimension()\n",
    "    Vh = dl.FunctionSpace(mesh, \"CG\", 1)\n",
    "    \n",
    "    gamma, delta = BiLaplacianComputeCoefficients(sigma2, rho, ndim)\n",
    "    \n",
    "    if degree == 1:\n",
    "        prior = LaplacianPrior(Vh, gamma, delta)\n",
    "    elif degree == 2:\n",
    "        if anisotropic:\n",
    "            anis_diff = dl.CompiledExpression(ExpressionModule.AnisTensor2D(), degree = 1)\n",
    "            anis_diff.set(theta0, theta1, alpha)\n",
    "        else:\n",
    "            anis_diff = None\n",
    "        prior = BiLaplacianPrior(Vh, gamma, delta,  anis_diff, robin_bc=use_robin)\n",
    "        prior.Asolver = dl.PETScLUSolver(dl.as_backend_type(prior.A)) #Replace iterative with direct solver\n",
    "    else:\n",
    "        raise\n",
    "\n",
    "    \n",
    "\n",
    "    \n",
    "    def sample(prior):\n",
    "        noise = dl.Vector()\n",
    "        prior.init_vector(noise,\"noise\")\n",
    "        parRandom.normal(1., noise)\n",
    "        mtrue = dl.Vector()\n",
    "        prior.init_vector(mtrue, 0)\n",
    "        prior.sample(noise,mtrue)\n",
    "        return mtrue\n",
    "    \n",
    "    plot_items = [ vector2Function(sample(prior),Vh) for i in range(2)]\n",
    "    labels = ['Sample 1','Sample 2']\n",
    "    \n",
    "    if with_correlation:\n",
    "        # construct pt\n",
    "        coords = tuple(ndim*[0.5])\n",
    "        pt = dl.Point(coords)\n",
    "        correlation_struc  = correlationStructure(prior, pt)\n",
    "        plot_items = [correlation_struc] + plot_items\n",
    "        labels = ['Correlation']+ labels\n",
    "    \n",
    "    nb.multi1_plot(plot_items,labels,same_colorbar = same_colorbar,\\\n",
    "                  fontsize = title_size, cmap = cmap)\n",
    "    fig, ax = plt.gcf(), plt.gca()\n",
    "    ims = ax.images \n",
    "    for im in ims:\n",
    "        cb = im.colorbar\n",
    "        cb = fig.colorbar()\n",
    "        cb.ax.tick_params(labelsize=tick_size)\n",
    "    fig.savefig(plot_prefix+'samples.pdf')\n",
    "    \n",
    "    plt.show()"
   ]
  },
  {
   "cell_type": "markdown",
   "metadata": {},
   "source": [
    "### Isotropic samples"
   ]
  },
  {
   "cell_type": "code",
   "execution_count": null,
   "metadata": {},
   "outputs": [],
   "source": [
    "mesh = dl.UnitSquareMesh(64,64)\n",
    "sigma2 = 4\n",
    "rho    = 0.25\n",
    "makeSamplePlots(mesh,sigma2,rho,title_size =25,plot_prefix=save_dir+'isotropic_64')"
   ]
  },
  {
   "cell_type": "markdown",
   "metadata": {},
   "source": [
    "### Anisotropic samples with $\\alpha = \\frac{\\pi}{4}$"
   ]
  },
  {
   "cell_type": "code",
   "execution_count": null,
   "metadata": {},
   "outputs": [],
   "source": [
    "mesh = dl.UnitSquareMesh(64,64)\n",
    "sigma2 = 4\n",
    "rho    = 0.25\n",
    "kwargs = {'theta0':2., 'theta1':0.5, 'alpha':math.pi/4,'anisotropic':True}\n",
    "makeSamplePlots(mesh,sigma2,rho,title_size =25,plot_prefix=save_dir+'anisotropic_64pi4',**kwargs)\n",
    "\n",
    "coords = (0.5,0.5)\n",
    "\n",
    "makeCorrelationPlots(mesh, sigma2, rho, coords,plot_prefix = save_dir+'2D0505anispi4',**kwargs,cmap='jet')\n",
    "\n",
    "kwargs['cmap'] = ['jet','viridis','viridis']\n",
    "kwargs['same_colorbar'] = False\n",
    "makeSamplePlots(mesh,sigma2,rho,title_size =25,plot_prefix=save_dir+'threeplotanisotropic_64pi4',**kwargs,with_correlation = True)\n"
   ]
  },
  {
   "cell_type": "markdown",
   "metadata": {},
   "source": [
    "### Anisotropic samples with $\\alpha = -\\frac{\\pi}{4}$\n"
   ]
  },
  {
   "cell_type": "code",
   "execution_count": null,
   "metadata": {},
   "outputs": [],
   "source": [
    "mesh = dl.UnitSquareMesh(64,64)\n",
    "sigma2 = 4\n",
    "rho    = 0.25\n",
    "kwargs = {'theta0':2., 'theta1':0.5, 'alpha':-math.pi/4,'anisotropic':True}\n",
    "makeSamplePlots(mesh,sigma2,rho,title_size =25,plot_prefix=save_dir+'anisotropic_64minuspi4',**kwargs)\n",
    "\n",
    "coords = (0.5,0.5)\n",
    "makeCorrelationPlots(mesh, sigma2, rho, coords,plot_prefix = save_dir+'2D0505anisminuspi4',**kwargs,cmap='jet')\n",
    "\n",
    "kwargs['cmap'] = ['jet','viridis','viridis']\n",
    "kwargs['same_colorbar'] = False\n",
    "makeSamplePlots(mesh,sigma2,rho,title_size =25,plot_prefix=save_dir+'threeplotanisotropic_64minuspi4',**kwargs,with_correlation = True)"
   ]
  },
  {
   "cell_type": "markdown",
   "metadata": {},
   "source": [
    "## Mesh Dependence and Independence"
   ]
  },
  {
   "cell_type": "code",
   "execution_count": null,
   "metadata": {},
   "outputs": [],
   "source": [
    "def locallyRefinedMesh():\n",
    "    mesh = dl.UnitSquareMesh(16,16)\n",
    "    \n",
    "    for i in range(4):\n",
    "        cell_markers = dl.MeshFunction(\"bool\", mesh,2)\n",
    "        cell_markers.set_all(False)\n",
    "        for cell in dl.cells(mesh):\n",
    "            if cell.midpoint()[1] < .7 and cell.midpoint()[1] > .3 and cell.midpoint()[0] > .2 and cell.midpoint()[0] < .5:\n",
    "                cell_markers[cell] = True\n",
    "            \n",
    "        mesh = dl.refine(mesh, cell_markers)\n",
    "        \n",
    "    return mesh\n",
    "\n",
    "mesh1 = dl.UnitSquareMesh(16,16)\n",
    "mesh2 = dl.UnitSquareMesh(64, 64)\n",
    "mesh3 = locallyRefinedMesh()\n",
    "\n",
    "nb.multi1_plot([mesh1, mesh2, mesh3], [\"Coarse mesh\", \"Fine mesh\", \"Locally refined\"])\n",
    "fig, ax = plt.gcf(), plt.gca()\n",
    "fig.savefig(save_dir+'meshes.pdf')\n"
   ]
  },
  {
   "cell_type": "markdown",
   "metadata": {},
   "source": [
    "### Laplacian plots"
   ]
  },
  {
   "cell_type": "code",
   "execution_count": null,
   "metadata": {},
   "outputs": [],
   "source": [
    "sigma2 = 4\n",
    "rho    = 0.25\n",
    "coords = (0.5,0.5)\n",
    "\n",
    "meshes = {'coarse':mesh1,'fine':mesh2,'refined':mesh3}\n",
    "\n",
    "for (name,mesh) in meshes.items():\n",
    "    makeSamplePlots(mesh,sigma2,rho,title_size =25,plot_prefix=save_dir+name+'isotropic_64pi4')\n",
    "    makeCorrelationPlots(mesh, sigma2, rho, coords,degree = 1,plot_prefix = save_dir+name+'2D0505laplace',**kwargs,cmap='jet')\n",
    "\n"
   ]
  },
  {
   "cell_type": "markdown",
   "metadata": {},
   "source": [
    "### BiLaplacian Plots"
   ]
  },
  {
   "cell_type": "code",
   "execution_count": null,
   "metadata": {},
   "outputs": [],
   "source": [
    "sigma2 = 4\n",
    "rho    = 0.25\n",
    "coords = (0.5,0.5)\n",
    "\n",
    "meshes = {'coarse':mesh1,'fine':mesh2,'refined':mesh3}\n",
    "\n",
    "for (name,mesh) in meshes.items():\n",
    "    makeSamplePlots(mesh,sigma2,rho,title_size =25,plot_prefix=save_dir+name+'isotropic_64pi4')\n",
    "    makeCorrelationPlots(mesh, sigma2, rho, coords,degree = 2, plot_prefix = save_dir+name+'2D0505bilaplace',**kwargs,cmap='jet')\n"
   ]
  },
  {
   "cell_type": "markdown",
   "metadata": {},
   "source": [
    "Copyright &copy; 2016-2018, The University of Texas at Austin & University of California, Merced.<br>\n",
    "Copyright (c) 2019-2022, The University of Texas at Austin, University of California--Merced, Washington University in St. Louis.<br>\n",
    "Copyright (c) 2023-, The University of Texas at Austin, University of California--Merced.<br>\n",
    "All Rights reserved.<br>\n",
    "See file COPYRIGHT for details.\n",
    "\n",
    "This file is part of the hIPPYlib library. For more information and source code\n",
    "availability see https://hippylib.github.io.\n",
    "\n",
    "hIPPYlib is free software; you can redistribute it and/or modify it under the terms of the GNU General Public License (as published by the Free Software Foundation) version 2.0 dated June 1991."
   ]
  },
  {
   "cell_type": "code",
   "execution_count": null,
   "metadata": {},
   "outputs": [],
   "source": []
  }
 ],
 "metadata": {
  "kernelspec": {
   "display_name": "Python 3 (ipykernel)",
   "language": "python",
   "name": "python3"
  },
  "language_info": {
   "codemirror_mode": {
    "name": "ipython",
    "version": 3
   },
   "file_extension": ".py",
   "mimetype": "text/x-python",
   "name": "python",
   "nbconvert_exporter": "python",
   "pygments_lexer": "ipython3",
   "version": "3.7.12"
  }
 },
 "nbformat": 4,
 "nbformat_minor": 2
}
